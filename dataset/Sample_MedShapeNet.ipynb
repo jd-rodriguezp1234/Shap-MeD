{
 "cells": [
  {
   "cell_type": "markdown",
   "id": "1727d1cf-6aa9-4874-a626-98a1aed78857",
   "metadata": {},
   "source": [
    "# Example selection\n",
    "This notebook extracts examples from MedShapeNet"
   ]
  },
  {
   "cell_type": "markdown",
   "id": "0f39634c-2a27-4fc7-be8d-f5871b38d3c9",
   "metadata": {},
   "source": [
    "# Imports"
   ]
  },
  {
   "cell_type": "code",
   "execution_count": 1,
   "id": "4e5fcb54-dffa-4051-9c5a-7752f7efa2e7",
   "metadata": {},
   "outputs": [],
   "source": [
    "import pandas as pd"
   ]
  },
  {
   "cell_type": "markdown",
   "id": "aa1bc0cf-e00e-4dde-b382-d9d46a35f2ac",
   "metadata": {},
   "source": [
    "# Constants"
   ]
  },
  {
   "cell_type": "code",
   "execution_count": 2,
   "id": "555ca29b-fac5-4c0f-85b9-5c9c068a85dd",
   "metadata": {},
   "outputs": [],
   "source": [
    "MEDSHAPENET_FILE = \"./2025-08-19T22-11_export.csv\""
   ]
  },
  {
   "cell_type": "code",
   "execution_count": 3,
   "id": "3f46cce0-8de4-4f70-a80f-fe3e93a0c4f2",
   "metadata": {},
   "outputs": [],
   "source": [
    "CATEGORIES = [\"liver\", \"aorta\", \"kidneyright\"]\n",
    "SUBCATEGORIES = {\n",
    "    \"liver\": \"liver\",\n",
    "    \"aorta\": \"aorta\",\n",
    "    \"kidneyright\": \"kidney\"\n",
    "}"
   ]
  },
  {
   "cell_type": "code",
   "execution_count": 4,
   "id": "5ee0bddf-5840-46a7-8f95-f60cb6eec84d",
   "metadata": {},
   "outputs": [],
   "source": [
    "DESTINATION = \"./organs_selected.csv\""
   ]
  },
  {
   "cell_type": "markdown",
   "id": "7f325948-1db7-4ca8-82ab-493c9dd7658e",
   "metadata": {},
   "source": [
    "# Utils"
   ]
  },
  {
   "cell_type": "markdown",
   "id": "140cb3de-a81a-4f86-8cd8-4320314abfe5",
   "metadata": {},
   "source": [
    "# Execution"
   ]
  },
  {
   "cell_type": "markdown",
   "id": "b8139fda-6d4e-4488-995e-62276bf1663b",
   "metadata": {},
   "source": [
    "## Load MedShapeNet"
   ]
  },
  {
   "cell_type": "code",
   "execution_count": 5,
   "id": "3656e2b3-c3be-46da-8e1f-163a93632d7c",
   "metadata": {},
   "outputs": [],
   "source": [
    "df = pd.read_csv(MEDSHAPENET_FILE)"
   ]
  },
  {
   "cell_type": "code",
   "execution_count": 6,
   "id": "e39b4d78-4569-447f-9663-ca518ac52060",
   "metadata": {},
   "outputs": [
    {
     "data": {
      "text/html": [
       "<div>\n",
       "<style scoped>\n",
       "    .dataframe tbody tr th:only-of-type {\n",
       "        vertical-align: middle;\n",
       "    }\n",
       "\n",
       "    .dataframe tbody tr th {\n",
       "        vertical-align: top;\n",
       "    }\n",
       "\n",
       "    .dataframe thead th {\n",
       "        text-align: right;\n",
       "    }\n",
       "</style>\n",
       "<table border=\"1\" class=\"dataframe\">\n",
       "  <thead>\n",
       "    <tr style=\"text-align: right;\">\n",
       "      <th></th>\n",
       "      <th>Unnamed: 0</th>\n",
       "      <th>Name</th>\n",
       "      <th>Category</th>\n",
       "      <th>URL</th>\n",
       "    </tr>\n",
       "  </thead>\n",
       "  <tbody>\n",
       "    <tr>\n",
       "      <th>0</th>\n",
       "      <td>0</td>\n",
       "      <td>000000_tumoredbrain.stl</td>\n",
       "      <td>tumoredbrain</td>\n",
       "      <td>https://uni-duisburg-essen.sciebo.de/s/HeShw1G...</td>\n",
       "    </tr>\n",
       "    <tr>\n",
       "      <th>1</th>\n",
       "      <td>1</td>\n",
       "      <td>000000_tumoredKidney.stl</td>\n",
       "      <td>tumoredKidney</td>\n",
       "      <td>https://uni-duisburg-essen.sciebo.de/s/HeShw1G...</td>\n",
       "    </tr>\n",
       "    <tr>\n",
       "      <th>2</th>\n",
       "      <td>2</td>\n",
       "      <td>000000_vertebrae.stl</td>\n",
       "      <td>vertebrae</td>\n",
       "      <td>https://uni-duisburg-essen.sciebo.de/s/HeShw1G...</td>\n",
       "    </tr>\n",
       "    <tr>\n",
       "      <th>3</th>\n",
       "      <td>3</td>\n",
       "      <td>000001_tumoredbrain.stl</td>\n",
       "      <td>tumoredbrain</td>\n",
       "      <td>https://uni-duisburg-essen.sciebo.de/s/HeShw1G...</td>\n",
       "    </tr>\n",
       "    <tr>\n",
       "      <th>4</th>\n",
       "      <td>4</td>\n",
       "      <td>000001_tumoredKidney.stl</td>\n",
       "      <td>tumoredKidney</td>\n",
       "      <td>https://uni-duisburg-essen.sciebo.de/s/HeShw1G...</td>\n",
       "    </tr>\n",
       "  </tbody>\n",
       "</table>\n",
       "</div>"
      ],
      "text/plain": [
       "   Unnamed: 0                      Name       Category  \\\n",
       "0           0   000000_tumoredbrain.stl   tumoredbrain   \n",
       "1           1  000000_tumoredKidney.stl  tumoredKidney   \n",
       "2           2      000000_vertebrae.stl      vertebrae   \n",
       "3           3   000001_tumoredbrain.stl   tumoredbrain   \n",
       "4           4  000001_tumoredKidney.stl  tumoredKidney   \n",
       "\n",
       "                                                 URL  \n",
       "0  https://uni-duisburg-essen.sciebo.de/s/HeShw1G...  \n",
       "1  https://uni-duisburg-essen.sciebo.de/s/HeShw1G...  \n",
       "2  https://uni-duisburg-essen.sciebo.de/s/HeShw1G...  \n",
       "3  https://uni-duisburg-essen.sciebo.de/s/HeShw1G...  \n",
       "4  https://uni-duisburg-essen.sciebo.de/s/HeShw1G...  "
      ]
     },
     "execution_count": 6,
     "metadata": {},
     "output_type": "execute_result"
    }
   ],
   "source": [
    "df.head()"
   ]
  },
  {
   "cell_type": "markdown",
   "id": "0382ff8b-2f35-4e7d-ad52-d2467d972551",
   "metadata": {},
   "source": [
    "## Filter by category"
   ]
  },
  {
   "cell_type": "code",
   "execution_count": 7,
   "id": "2edf2bc6-5d4f-48e7-bb5e-4ffbe058aa9e",
   "metadata": {},
   "outputs": [],
   "source": [
    "df_filter = df[\n",
    "    df[\"Category\"].isin(CATEGORIES)\n",
    "].copy(deep=True)"
   ]
  },
  {
   "cell_type": "code",
   "execution_count": 8,
   "id": "23cf695e-a8a9-4b92-ae1a-5274315e0d2e",
   "metadata": {},
   "outputs": [],
   "source": [
    "df_filter[\"SubCategory\"] = df_filter[\"Category\"].map(\n",
    "    SUBCATEGORIES\n",
    ")"
   ]
  },
  {
   "cell_type": "code",
   "execution_count": 9,
   "id": "1466bb61-86fa-4876-ad17-3480c65cc6c9",
   "metadata": {},
   "outputs": [],
   "source": [
    "df_filter.to_csv(DESTINATION, index=False)"
   ]
  }
 ],
 "metadata": {
  "kernelspec": {
   "display_name": "Python 3 (ipykernel)",
   "language": "python",
   "name": "python3"
  },
  "language_info": {
   "codemirror_mode": {
    "name": "ipython",
    "version": 3
   },
   "file_extension": ".py",
   "mimetype": "text/x-python",
   "name": "python",
   "nbconvert_exporter": "python",
   "pygments_lexer": "ipython3",
   "version": "3.10.12"
  }
 },
 "nbformat": 4,
 "nbformat_minor": 5
}
